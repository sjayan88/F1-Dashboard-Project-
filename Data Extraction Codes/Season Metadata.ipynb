{
 "cells": [
  {
   "cell_type": "code",
   "execution_count": 1,
   "id": "fba484a6-e76e-47a1-acd5-4f0128bfb448",
   "metadata": {},
   "outputs": [
    {
     "name": "stdout",
     "output_type": "stream",
     "text": [
      "✅ Full session metadata exported successfully.\n"
     ]
    }
   ],
   "source": [
    "import fastf1\n",
    "from fastf1.events import get_event_schedule\n",
    "import pandas as pd\n",
    "\n",
    "# Enable cache\n",
    "fastf1.Cache.enable_cache(\"D:/F1_dashboard/F1_Dashboard/F1_Data_Cache\")\n",
    "\n",
    "# Get full event schedule with all columns\n",
    "try:\n",
    "    full_schedule = get_event_schedule(2025)\n",
    "    \n",
    "    # Just add the Season column for easier modeling later\n",
    "    full_schedule['Season'] = 2025\n",
    "\n",
    "    # Save the complete metadata to CSV\n",
    "    full_schedule.to_csv(\"D:/F1_dashboard/F1_Dashboard/2025_Race_Data/Session_Metadata_Full.csv\", index=False)\n",
    "    print(\"Full session metadata exported successfully.\")\n",
    "\n",
    "except Exception as e:\n",
    "    print(f\"Failed to fetch schedule: {e}\")\n"
   ]
  },
  {
   "cell_type": "code",
   "execution_count": null,
   "id": "abd00c34-c0e3-488d-8293-949395596ae3",
   "metadata": {},
   "outputs": [],
   "source": []
  }
 ],
 "metadata": {
  "kernelspec": {
   "display_name": "Python 3 (ipykernel)",
   "language": "python",
   "name": "python3"
  },
  "language_info": {
   "codemirror_mode": {
    "name": "ipython",
    "version": 3
   },
   "file_extension": ".py",
   "mimetype": "text/x-python",
   "name": "python",
   "nbconvert_exporter": "python",
   "pygments_lexer": "ipython3",
   "version": "3.12.7"
  }
 },
 "nbformat": 4,
 "nbformat_minor": 5
}
