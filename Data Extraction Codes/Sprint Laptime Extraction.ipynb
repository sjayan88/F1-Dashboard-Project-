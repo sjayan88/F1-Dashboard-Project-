{
 "cells": [
  {
   "cell_type": "code",
   "execution_count": 1,
   "id": "02697b77-2fc5-451d-b0bc-933cfae91f06",
   "metadata": {},
   "outputs": [
    {
     "name": "stdout",
     "output_type": "stream",
     "text": [
      "schedule\n",
      "test\n",
      "✅ Full 2024 Schedule:\n",
      "    RoundNumber                  EventName        EventFormat\n",
      "0             0         Pre-Season Testing            testing\n",
      "1             1         Bahrain Grand Prix       conventional\n",
      "2             2   Saudi Arabian Grand Prix       conventional\n",
      "3             3      Australian Grand Prix       conventional\n",
      "4             4        Japanese Grand Prix       conventional\n",
      "5             5         Chinese Grand Prix  sprint_qualifying\n",
      "6             6           Miami Grand Prix  sprint_qualifying\n",
      "7             7  Emilia Romagna Grand Prix       conventional\n",
      "8             8          Monaco Grand Prix       conventional\n",
      "9             9        Canadian Grand Prix       conventional\n",
      "10           10         Spanish Grand Prix       conventional\n",
      "11           11        Austrian Grand Prix  sprint_qualifying\n",
      "12           12         British Grand Prix       conventional\n",
      "13           13       Hungarian Grand Prix       conventional\n",
      "14           14         Belgian Grand Prix       conventional\n",
      "15           15           Dutch Grand Prix       conventional\n",
      "16           16         Italian Grand Prix       conventional\n",
      "17           17      Azerbaijan Grand Prix       conventional\n",
      "18           18       Singapore Grand Prix       conventional\n",
      "19           19   United States Grand Prix  sprint_qualifying\n",
      "20           20     Mexico City Grand Prix       conventional\n",
      "21           21       São Paulo Grand Prix  sprint_qualifying\n",
      "22           22       Las Vegas Grand Prix       conventional\n",
      "23           23           Qatar Grand Prix  sprint_qualifying\n",
      "24           24       Abu Dhabi Grand Prix       conventional\n",
      "\n",
      "✅ Filtered Sprint Events:\n",
      "    RoundNumber                 EventName\n",
      "5             5        Chinese Grand Prix\n",
      "6             6          Miami Grand Prix\n",
      "11           11       Austrian Grand Prix\n",
      "19           19  United States Grand Prix\n",
      "21           21      São Paulo Grand Prix\n",
      "23           23          Qatar Grand Prix\n",
      "\n",
      "Number of sprint events found: 6\n"
     ]
    }
   ],
   "source": [
    "import fastf1\n",
    "import os\n",
    "import pandas as pd\n",
    "\n",
    "# Enable cache\n",
    "fastf1.Cache.enable_cache(r\"D:\\F1_dashboard\\F1_Dashboard\\F1_Data_Cache\")\n",
    "\n",
    "# Output folder\n",
    "output_folder = r\"D:\\F1_dashboard\\F1_Dashboard\\2024_Race_Data\\Sprint_LapTimes\"\n",
    "os.makedirs(output_folder, exist_ok=True)\n",
    "\n",
    "# Step 1: Get full 2024 event schedule\n",
    "schedule = fastf1.get_event_schedule(2024)\n",
    "print( \"schedule\")\n",
    "# Step 2: Filter only events that have Sprint sessions\n",
    "# Check if 'EventFormat' column exists\n",
    "if 'EventFormat' in schedule.columns:\n",
    "    sprint_schedule = schedule[schedule['EventFormat'] == 'sprint_qualifying']\n",
    "else:\n",
    "    print(\"'EventFormat' column not found in schedule.\")\n",
    "    sprint_schedule = pd.DataFrame()\n",
    "print(\"test\")\n",
    "\n",
    "print(\"✅ Full 2024 Schedule:\")\n",
    "print(schedule[['RoundNumber', 'EventName', 'EventFormat']])\n",
    "\n",
    "print(\"\\n✅ Filtered Sprint Events:\")\n",
    "print(sprint_schedule[['RoundNumber', 'EventName']])\n",
    "\n",
    "print(f\"\\nNumber of sprint events found: {len(sprint_schedule)}\")\n"
   ]
  },
  {
   "cell_type": "code",
   "execution_count": 2,
   "id": "f96fe711-facb-4280-bec4-a48b42025997",
   "metadata": {},
   "outputs": [
    {
     "name": "stderr",
     "output_type": "stream",
     "text": [
      "core           INFO \tLoading data for Chinese Grand Prix - Sprint [v3.5.3]\n",
      "req            INFO \tUsing cached data for session_info\n",
      "req            INFO \tUsing cached data for driver_info\n"
     ]
    },
    {
     "name": "stdout",
     "output_type": "stream",
     "text": [
      "🔄 Processing Chinese Grand Prix\n"
     ]
    },
    {
     "name": "stderr",
     "output_type": "stream",
     "text": [
      "req            INFO \tUsing cached data for session_status_data\n",
      "req            INFO \tUsing cached data for lap_count\n",
      "req            INFO \tUsing cached data for track_status_data\n",
      "req            INFO \tUsing cached data for _extended_timing_data\n",
      "req            INFO \tUsing cached data for timing_app_data\n",
      "core           INFO \tProcessing timing data...\n",
      "req            INFO \tUsing cached data for car_data\n",
      "req            INFO \tUsing cached data for position_data\n",
      "req            INFO \tUsing cached data for weather_data\n",
      "req            INFO \tUsing cached data for race_control_messages\n",
      "core           INFO \tFinished loading data for 20 drivers: ['1', '44', '11', '16', '55', '4', '81', '63', '24', '20', '3', '77', '31', '18', '10', '22', '23', '2', '27', '14']\n",
      "core           INFO \tLoading data for Miami Grand Prix - Sprint [v3.5.3]\n",
      "req            INFO \tUsing cached data for session_info\n",
      "req            INFO \tUsing cached data for driver_info\n"
     ]
    },
    {
     "name": "stdout",
     "output_type": "stream",
     "text": [
      "✅ Saved sprint lap times for Chinese Grand Prix\n",
      "🔄 Processing Miami Grand Prix\n"
     ]
    },
    {
     "name": "stderr",
     "output_type": "stream",
     "text": [
      "req            INFO \tUsing cached data for session_status_data\n",
      "req            INFO \tUsing cached data for lap_count\n",
      "req            INFO \tUsing cached data for track_status_data\n",
      "req            INFO \tUsing cached data for _extended_timing_data\n",
      "req            INFO \tUsing cached data for timing_app_data\n",
      "core           INFO \tProcessing timing data...\n",
      "req            INFO \tUsing cached data for car_data\n",
      "req            INFO \tUsing cached data for position_data\n",
      "req            INFO \tUsing cached data for weather_data\n",
      "req            INFO \tUsing cached data for race_control_messages\n",
      "core           INFO \tFinished loading data for 20 drivers: ['1', '16', '11', '3', '55', '81', '27', '22', '10', '2', '24', '63', '23', '77', '31', '44', '14', '20', '18', '4']\n",
      "core           INFO \tLoading data for Austrian Grand Prix - Sprint [v3.5.3]\n",
      "req            INFO \tUsing cached data for session_info\n",
      "req            INFO \tUsing cached data for driver_info\n"
     ]
    },
    {
     "name": "stdout",
     "output_type": "stream",
     "text": [
      "✅ Saved sprint lap times for Miami Grand Prix\n",
      "🔄 Processing Austrian Grand Prix\n"
     ]
    },
    {
     "name": "stderr",
     "output_type": "stream",
     "text": [
      "req            INFO \tUsing cached data for session_status_data\n",
      "req            INFO \tUsing cached data for lap_count\n",
      "req            INFO \tUsing cached data for track_status_data\n",
      "req            INFO \tUsing cached data for _extended_timing_data\n",
      "req            INFO \tUsing cached data for timing_app_data\n",
      "core           INFO \tProcessing timing data...\n",
      "req            INFO \tUsing cached data for car_data\n",
      "req            INFO \tUsing cached data for position_data\n",
      "req            INFO \tUsing cached data for weather_data\n",
      "req            INFO \tUsing cached data for race_control_messages\n",
      "core           INFO \tFinished loading data for 20 drivers: ['1', '81', '4', '63', '55', '44', '16', '11', '20', '18', '31', '10', '22', '3', '14', '2', '23', '77', '27', '24']\n",
      "events      WARNING \tCorrecting user input 'United States Grand Prix' to 'United States Grand Prix'\n",
      "core           INFO \tLoading data for United States Grand Prix - Sprint [v3.5.3]\n",
      "req            INFO \tUsing cached data for session_info\n",
      "req            INFO \tUsing cached data for driver_info\n"
     ]
    },
    {
     "name": "stdout",
     "output_type": "stream",
     "text": [
      "✅ Saved sprint lap times for Austrian Grand Prix\n",
      "🔄 Processing United States Grand Prix\n"
     ]
    },
    {
     "name": "stderr",
     "output_type": "stream",
     "text": [
      "req            INFO \tUsing cached data for session_status_data\n",
      "req            INFO \tUsing cached data for lap_count\n",
      "req            INFO \tUsing cached data for track_status_data\n",
      "req            INFO \tUsing cached data for _extended_timing_data\n",
      "req            INFO \tUsing cached data for timing_app_data\n",
      "core           INFO \tProcessing timing data...\n",
      "req            INFO \tUsing cached data for car_data\n",
      "req            INFO \tUsing cached data for position_data\n",
      "req            INFO \tUsing cached data for weather_data\n",
      "req            INFO \tUsing cached data for race_control_messages\n",
      "core           INFO \tFinished loading data for 20 drivers: ['1', '55', '4', '16', '63', '44', '20', '27', '11', '81', '22', '43', '18', '10', '31', '30', '23', '14', '24', '77']\n",
      "core           INFO \tLoading data for São Paulo Grand Prix - Sprint [v3.5.3]\n",
      "req            INFO \tUsing cached data for session_info\n",
      "req            INFO \tUsing cached data for driver_info\n"
     ]
    },
    {
     "name": "stdout",
     "output_type": "stream",
     "text": [
      "✅ Saved sprint lap times for United States Grand Prix\n",
      "🔄 Processing São Paulo Grand Prix\n"
     ]
    },
    {
     "name": "stderr",
     "output_type": "stream",
     "text": [
      "req            INFO \tUsing cached data for session_status_data\n",
      "req            INFO \tUsing cached data for lap_count\n",
      "req            INFO \tUsing cached data for track_status_data\n",
      "req            INFO \tUsing cached data for _extended_timing_data\n",
      "req            INFO \tUsing cached data for timing_app_data\n",
      "core           INFO \tProcessing timing data...\n",
      "req            INFO \tUsing cached data for car_data\n",
      "req            INFO \tUsing cached data for position_data\n",
      "req            INFO \tUsing cached data for weather_data\n",
      "req            INFO \tUsing cached data for race_control_messages\n",
      "core        WARNING \tDriver 4 completed the race distance 00:00.011000 before the recorded end of the session.\n",
      "core           INFO \tFinished loading data for 20 drivers: ['4', '81', '16', '1', '55', '63', '10', '11', '30', '23', '44', '43', '31', '50', '22', '77', '24', '14', '18', '27']\n",
      "events      WARNING \tCorrecting user input 'Qatar Grand Prix' to 'Qatar Grand Prix'\n",
      "core           INFO \tLoading data for Qatar Grand Prix - Sprint [v3.5.3]\n",
      "req            INFO \tUsing cached data for session_info\n",
      "req            INFO \tUsing cached data for driver_info\n"
     ]
    },
    {
     "name": "stdout",
     "output_type": "stream",
     "text": [
      "✅ Saved sprint lap times for São Paulo Grand Prix\n",
      "🔄 Processing Qatar Grand Prix\n"
     ]
    },
    {
     "name": "stderr",
     "output_type": "stream",
     "text": [
      "req            INFO \tUsing cached data for session_status_data\n",
      "req            INFO \tUsing cached data for lap_count\n",
      "req            INFO \tUsing cached data for track_status_data\n",
      "req            INFO \tUsing cached data for _extended_timing_data\n",
      "req            INFO \tUsing cached data for timing_app_data\n",
      "core           INFO \tProcessing timing data...\n",
      "req            INFO \tUsing cached data for car_data\n",
      "req            INFO \tUsing cached data for position_data\n",
      "req            INFO \tUsing cached data for weather_data\n",
      "req            INFO \tUsing cached data for race_control_messages\n",
      "core           INFO \tFinished loading data for 20 drivers: ['81', '4', '63', '55', '16', '44', '27', '1', '10', '20', '14', '77', '18', '31', '23', '30', '22', '43', '24', '11']\n"
     ]
    },
    {
     "name": "stdout",
     "output_type": "stream",
     "text": [
      "✅ Saved sprint lap times for Qatar Grand Prix\n",
      "test1\n"
     ]
    }
   ],
   "source": [
    "# Step 3: Loop through each sprint event\n",
    "for _, row in sprint_schedule.iterrows():\n",
    "    event_name = row['EventName']\n",
    "    round_number = row['RoundNumber']\n",
    "    try:\n",
    "        print(f\"🔄 Processing {event_name}\")\n",
    "        session = fastf1.get_session(2024, event_name, 'S')\n",
    "        session.load()\n",
    "\n",
    "        laps = session.laps\n",
    "        laps['Event'] = event_name\n",
    "        laps['Round'] = round_number\n",
    "        laps['Season'] = 2024\n",
    "        laps['SessionType'] = 'Sprint'\n",
    "\n",
    "        filename = f\"{event_name.replace(' ', '_')}_SprintLapTimes.csv\"\n",
    "        filepath = os.path.join(output_folder, filename)\n",
    "\n",
    "        laps.to_csv(filepath, index=False)\n",
    "        print(f\"✅ Saved sprint lap times for {event_name}\")\n",
    "    except Exception as e:\n",
    "        print(f\" Could not load sprint session for {event_name}: {e}\")\n",
    "print(\"test1\")"
   ]
  },
  {
   "cell_type": "code",
   "execution_count": null,
   "id": "b5666bfb-f878-4870-82d4-64f3d50b3370",
   "metadata": {},
   "outputs": [],
   "source": []
  }
 ],
 "metadata": {
  "kernelspec": {
   "display_name": "Python 3 (ipykernel)",
   "language": "python",
   "name": "python3"
  },
  "language_info": {
   "codemirror_mode": {
    "name": "ipython",
    "version": 3
   },
   "file_extension": ".py",
   "mimetype": "text/x-python",
   "name": "python",
   "nbconvert_exporter": "python",
   "pygments_lexer": "ipython3",
   "version": "3.12.7"
  }
 },
 "nbformat": 4,
 "nbformat_minor": 5
}
